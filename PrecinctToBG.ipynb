{
 "cells": [
  {
   "cell_type": "markdown",
   "metadata": {},
   "source": [
    "### Reprojecting Precinct-Level Voting Results to Census Block Groups\n",
    "\n",
    "This script mapped the 2016 election voting results in Texas from precincts to census block group. \n",
    "\n",
    "The precinct-level voting results are made publicly available by the *Voting and Election Science Team* at University of Florida and Wichita State University. The data can be downloaded from: https://dataverse.harvard.edu/dataset.xhtml?persistentId=doi:10.7910/DVN/NH5S2I"
   ]
  },
  {
   "cell_type": "markdown",
   "metadata": {},
   "source": [
    "**Input datasets**:\n",
    "   \n",
    "- `Census blocks shapefile for Texas`: Shapefiles by states that define the shape of blocks. The Dataset can be downloaded by states from https://www.census.gov/geographies/mapping-files/time-series/geo/tiger-line-file.html\n",
    "\n",
    "(The dataset is renamed after the download)\n",
    "\n",
    "- `Census block groups shapefile for Texas`: Shapefiles by states that define the shape of block groups. Dataset can be downloaded by states from https://www.census.gov/geographies/mapping-files/time-series/geo/tiger-line-file.html\n",
    "\n",
    "(The dataset is renamed after the download)\n",
    "\n",
    "- `Precinct shapefile for Texas`: Shapefiles by states that define the shape of precincts. Dataset can be downloaded by states from https://dataverse.harvard.edu/dataset.xhtml?persistentId=doi:10.7910/DVN/NH5S2I \n",
    "\n",
    "(The dataset is renamed after the download)\n",
    "\n",
    "\n",
    "**Output datasets**: \n",
    "    \n",
    "- `texasBlkSize.xlsx`: Sizes of Texas blocks obtained from Census Bureau API (https://api.census.gov/data/2010/dec/sf1/variables.html). There is no single dataset that contain the size information for all Texas blocks. The downloadable datasets are organized by counties. \n",
    "\n",
    "- `Texas_bg_voting.`: Voting results from precinct mapped to block group"
   ]
  },
  {
   "cell_type": "code",
   "execution_count": 1,
   "metadata": {},
   "outputs": [],
   "source": [
    "import geopy\n",
    "from geopy.geocoders import Nominatim\n",
    "\n",
    "import shapefile\n",
    "\n",
    "from shapely.geometry import Point, Polygon\n",
    "from shapely.geometry import shape\n",
    "from shapely.ops import cascaded_union\n",
    "\n",
    "import geopandas as gpd\n",
    "\n",
    "\n",
    "import matplotlib.pyplot as plt\n",
    "\n",
    "import rasterio\n",
    "from rasterio.plot import show\n",
    "\n",
    "import time\n",
    "\n",
    "import pandas as pd\n",
    "import numpy as np\n",
    "\n",
    "import requests\n",
    "import json\n",
    "\n",
    "import xml.etree.ElementTree as ET #parsing xml response from API\n",
    "\n",
    "import glob, os, pyproj\n",
    "import copy\n",
    "\n",
    "import urllib.request\n",
    "\n",
    "import wget\n",
    "\n",
    "from io import StringIO"
   ]
  },
  {
   "cell_type": "markdown",
   "metadata": {},
   "source": [
    "#### Preparation: Obtaining sizes of blocks\n",
    "\n",
    "On the Census Bureau website, dataset about blocks can only be downloaded by counties. Texas contains 254 counties, so it would be inefficient to download these data through the interface. Fortunately, queries can be made through the `census API.`\n",
    "\n",
    "The variable `mykey` below is the key to access the API. Request the key through https://api.census.gov/data/key_signup.html to run the web-request codes.\n",
    "\n",
    "I also saved Texas block sizes in an excel file. To move on to the next step, run the last line to read `texasBlkSize.xlsx`. "
   ]
  },
  {
   "cell_type": "code",
   "execution_count": null,
   "metadata": {},
   "outputs": [],
   "source": [
    "texasCtyTra= texasBlk.loc[:, [\"COUNTYFP10\", \"TRACTCE10\"]].drop_duplicates()"
   ]
  },
  {
   "cell_type": "code",
   "execution_count": null,
   "metadata": {},
   "outputs": [],
   "source": [
    "blkSizeDf= pd.DataFrame(columns= [\"P001001\",\"NAME\", \"state\", \"county\", \"tract\", \"block\"])\n",
    "for row in texasCtyTra.itertuples():\n",
    "    county= getattr(row, \"COUNTYFP10\")\n",
    "    tract= getattr(row, \"TRACTCE10\")\n",
    "    \n",
    "    # variable `P001001` refers to total population\n",
    "    \n",
    "    myKey= \"?????\" #Census API key\n",
    "    \n",
    "    url= \"https://api.census.gov/data/2010/dec/sf1?\"+\\\n",
    "    \"get=P001001,\"+\\\n",
    "    \"NAME&for=block:*\"+\\\n",
    "    \"&in=state:{}\".format(\"48\")+\\\n",
    "    \"%20county:{}%20tract:{}\".format(county, tract)+\\\n",
    "    \"&key=\"+ myKey\n",
    "    \n",
    "    r= requests.get(url)\n",
    "    c= str(r.content, \"utf-8\")\n",
    "    c= c[1:-1].replace(\",\\n\", \"\\n\").replace(\"[\", \"\").replace(\"]\", \"\")\n",
    "    \n",
    "    c= StringIO(c)\n",
    "    tractDf= pd.read_csv(c, sep= \",\")\n",
    "    \n",
    "    blkSizeDf= blkSizeDf.append(tractDf, ignore_index= True)\n",
    "\n",
    "blkSizeDf.to_excel(\"texasBlkSize.xlsx\")"
   ]
  },
  {
   "cell_type": "code",
   "execution_count": 2,
   "metadata": {},
   "outputs": [],
   "source": [
    "blkSizeDf= pd.read_excel(\"Data_TexasExample/texasBlkSize.xlsx\")"
   ]
  },
  {
   "cell_type": "markdown",
   "metadata": {},
   "source": [
    "#### Reprojecting the data"
   ]
  },
  {
   "cell_type": "markdown",
   "metadata": {},
   "source": [
    "Read Texas block, block group and precinct boundaries"
   ]
  },
  {
   "cell_type": "code",
   "execution_count": 4,
   "metadata": {},
   "outputs": [
    {
     "name": "stdout",
     "output_type": "stream",
     "text": [
      "{'init': 'epsg:4269'}\n",
      "{'init': 'epsg:4269'}\n"
     ]
    },
    {
     "name": "stderr",
     "output_type": "stream",
     "text": [
      "/anaconda3/lib/python3.6/site-packages/pyproj/crs.py:77: FutureWarning: '+init=<authority>:<code>' syntax is deprecated. '<authority>:<code>' is the preferred initialization method.\n",
      "  return _prepare_from_string(\" \".join(pjargs))\n"
     ]
    },
    {
     "name": "stdout",
     "output_type": "stream",
     "text": [
      "{'init': 'epsg:4269'}\n"
     ]
    }
   ],
   "source": [
    "#Read Texas blocks shapefile. I renamed the file after the download\n",
    "shp= glob.glob(\"Data_TexasExample/Data_censusBlocks/tl_2019_tabblock10_Texas/*.shp\")[0]\n",
    "texasBlk= gpd.read_file(shp) \n",
    "print(texasBlk.crs)\n",
    "\n",
    "#Read Texas block group shapefile. I rename the file after the download\n",
    "shp= glob.glob(\"Data_TexasExample/Data_censusBG/tl_2019_Texas_bg/*.shp\")[0] \n",
    "texasBg= gpd.read_file(shp)\n",
    "print(texasBg.crs)\n",
    "\n",
    "#Read Texas precinct shapefiles. I rename the file after the download \n",
    "texasPct= gpd.read_file(\"Data_TexasExample/Data_votingResults/\"+\"Texas\"+\"_2016/\"+\"TX\"+\"_2016.shp\") \n",
    "texasPct_reProj= texasPct.to_crs({'init' :'epsg:4269'}) #Reproject precinct map's crs\n",
    "print(texasPct_reProj.crs)"
   ]
  },
  {
   "cell_type": "markdown",
   "metadata": {},
   "source": [
    "**Are precincts consist of blocks? **\n",
    "\n",
    "The precinct-level voting results are mapped to block groups through blocks. If both precincts and block groups consist of blocks, the mapping is more straightforward.\n"
   ]
  },
  {
   "cell_type": "code",
   "execution_count": 3,
   "metadata": {},
   "outputs": [],
   "source": [
    "#Block boundary overlapping with precinct boundary is a problem\n",
    "#I trim the block boundaries a little bit to establish the `contains` relationship\n",
    "texasBlk_trim= copy.copy(texasBlk)\n",
    "texasBlk_trim[\"geometry\"]= texasBlk_trim[\"geometry\"].buffer(distance=-0.0000001)"
   ]
  },
  {
   "cell_type": "code",
   "execution_count": 4,
   "metadata": {},
   "outputs": [],
   "source": [
    "#The `sjoin` function is the key step. \n",
    "#For every row in left dataset, the function compares with all rows in the right dataset.\n",
    "#The operation is split into two steps because the dataset is big.\n",
    "#The code outputs a dataset `merge` in which each row is an intersection between a block and precinct(s)\n",
    "    #If a block is contatined in a precinct, the block corresponds to one row in the output dataset\n",
    "    #If a block spreads acrossed x precincts, the block corresponds to x rows in the output dataset\n",
    "    \n",
    "merge1= gpd.sjoin(texasBlk_trim.loc[0:500000, :], texasPct_reProj, \\\n",
    "                  how= \"left\", op= \"intersects\")\n",
    "merge2= gpd.sjoin(texasBlk_trim.loc[500001:, :], texasPct_reProj, \\\n",
    "                  how= \"left\", op= \"intersects\")\n",
    "\n",
    "merge= merge1.append(merge2, ignore_index= True)\n",
    "\n",
    "#Note that because texasBlk_trim is one the left, geometry of the output dataset `merge` are about blocks"
   ]
  },
  {
   "cell_type": "code",
   "execution_count": 5,
   "metadata": {},
   "outputs": [
    {
     "name": "stdout",
     "output_type": "stream",
     "text": [
      "873323\n",
      "40908\n"
     ]
    }
   ],
   "source": [
    "#dictionary keys are block ID, dictionary values are frequency\n",
    "countDic= {i:0 for i in merge.GEOID10}\n",
    "for geoid in merge.GEOID10:\n",
    "    countDic[geoid]+= 1\n",
    "\n",
    "blk1= []\n",
    "blk2up= []\n",
    "for key, value in countDic.items():\n",
    "    if value== 1:\n",
    "        blk1+= [key]\n",
    "    else:\n",
    "        blk2up+= [key]\n",
    "\n",
    "print(len(blk1)) #How many block is uniquely contained in one precinct\n",
    "print(len(blk2up)) #How many blocks spread across 2 and more precincts\n",
    "\n",
    "merge_blkMulti= merge.loc[merge.GEOID10.isin(blk2up), :]\n",
    "pct2up= list(set(merge_blkMulti.PCTKEY)) #Precinct corresponding to the \n",
    "                                         #blocks that spread acorss multiple precincts"
   ]
  },
  {
   "cell_type": "markdown",
   "metadata": {},
   "source": [
    "For (the small amount of) blocks that srpead across more than one precincts... How are their areas distributed across the multiple precincts?"
   ]
  },
  {
   "cell_type": "code",
   "execution_count": 7,
   "metadata": {},
   "outputs": [],
   "source": [
    "texasBlk_multi= texasBlk_trim.loc[texasBlk_trim.GEOID10.isin(blk2up), :]\n",
    "texasPct_multi= texasPct_reProj.loc[texasPct_reProj.PCTKEY.isin(pct2up), :]"
   ]
  },
  {
   "cell_type": "code",
   "execution_count": 8,
   "metadata": {},
   "outputs": [],
   "source": [
    "#Form union geometries between the non-unique blocks and the corresponding precincts \n",
    "    #The unions that has block membership (i.e., has GEOID10) should be the \n",
    "    #same as the sjoin intersections above stored in the `merge` dataset. \n",
    "BlkPct_multi= gpd.overlay(texasBlk_multi, texasPct_multi, how= \"union\")"
   ]
  },
  {
   "cell_type": "code",
   "execution_count": 9,
   "metadata": {},
   "outputs": [],
   "source": [
    "BlkPct_multi[\"intersectArea\"]= BlkPct_multi.area #Note that these intersect areas are \n",
    "                                                 #slightly smaller because of trimming\n",
    "    \n",
    "    #Theoretically, the sum of the intersect areas within a block should\n",
    "    #equal to the block area. But because I tirmmed the areas by 0.0000001\n",
    "    #the sum of intersect areas will be slightly smaller than the block area\n",
    "    #The difference is very small, but I do not want the small differences to \n",
    "    #aggregrate. Therefore, when I compute the percentages of a block's area that  \n",
    "    #belong to different precincts (`blkInPct`), I estimate the block's area from \n",
    "    #its intersect geometries. This makes sure that the intersect areas sum up\n",
    "    #to 100%. For example, for block 1, 20% of its area is in precinct A, 50% \n",
    "    #in precinct B, and 30% in precinct C. \n",
    "\n",
    "toMerge= pd.DataFrame(BlkPct_multi.groupby(\"GEOID10\")[\"intersectArea\"].sum())\n",
    "toMerge.columns= [\"blkArea_est\"]\n",
    "\n",
    "BlkPct_multi= pd.merge(BlkPct_multi, toMerge, on= \"GEOID10\")\n",
    "\n",
    "\n",
    "#merge the intersects' area back to the above dataset created by `sjoin`\n",
    "toMerge2= BlkPct_multi.loc[pd.notnull(BlkPct_multi.GEOID10), \n",
    "                          [\"GEOID10\", \"PCTKEY\", \"intersectArea\", \"blkArea_est\"]]\n",
    "\n",
    "merge_blkMulti= pd.merge(merge_blkMulti, toMerge2, \n",
    "                         left_on= [\"GEOID10\", \"PCTKEY\"], \n",
    "                         right_on= [\"GEOID10\", \"PCTKEY\"])\n",
    "\n",
    "#`blkInPct`= Area of intersect / Area of block: \n",
    "#this is the % of block that lies in different precincts\n",
    "merge_blkMulti[\"blkInPct\"]= merge_blkMulti[\"intersectArea\"]/merge_blkMulti[\"blkArea_est\"]"
   ]
  },
  {
   "cell_type": "code",
   "execution_count": 10,
   "metadata": {},
   "outputs": [
    {
     "name": "stdout",
     "output_type": "stream",
     "text": [
      "28359 0.6932384863596363\n"
     ]
    }
   ],
   "source": [
    "print(sum(merge_blkMulti.blkInPct>0.99), sum(merge_blkMulti.blkInPct>0.99)/len(blk2up))"
   ]
  },
  {
   "cell_type": "markdown",
   "metadata": {},
   "source": [
    "For a substantial number of blocks that seemingly spread across multiple precincts, 99% of these block areas are actually within one precinct. This seems more like a boundary misalign, rather than the block truely spreading across multiple precincts. \n",
    "\n",
    "For the blocks that 99% of their area are within one precinct, there might not be a need to further split it, so I assign the block to that precinct."
   ]
  },
  {
   "cell_type": "code",
   "execution_count": null,
   "metadata": {},
   "outputs": [],
   "source": [
    "blkKindof1= list(merge_blkMulti.loc[merge_blkMulti.blkInPct>0.99, \"GEOID10\"])\n",
    "blk1New= blk1+ blkKindof1\n",
    "blk2upNew= list(set(blk2up)-set(blkKindof1))"
   ]
  },
  {
   "cell_type": "code",
   "execution_count": null,
   "metadata": {},
   "outputs": [],
   "source": [
    "merge_blkMulti_judge= merge_blkMulti.loc[~merge_blkMulti.GEOID10.isin(blkKindof1), :]"
   ]
  },
  {
   "cell_type": "code",
   "execution_count": null,
   "metadata": {},
   "outputs": [],
   "source": [
    "merge_blkMulti_judge.shape"
   ]
  },
  {
   "cell_type": "markdown",
   "metadata": {},
   "source": [
    "To sum the block of codes above\n",
    "\n",
    "Texas contains 914231 blocks. I trim the block boundaries by - 0.0000001 (around 10mm). 873323 (95.5%) of them are uniquely contained within one precinct. The remaining 40908 spread across more than one precinct. For these 40908 blocks, 28359 (69%) of them have the majority of their area (more than 99% of area) within one precinct.\n",
    "\n",
    "Generally, it is safe to conclude that precincts are consisted of blocks. "
   ]
  },
  {
   "cell_type": "markdown",
   "metadata": {},
   "source": [
    "Here I construct a new/updated version of the `merge` dataset by combining the below two scenarios:\n",
    "\n",
    "- For the 873323 + 28359 blocks that are uniquely contained within one precinct (either exactly or has 99% of its area in one precinct), the block `intersectArea` with precinct is the same as the block area, and the block `blkInPct` percentage is 1. Again, each of these block correspond to 1 row in the `merge` dataset. \n",
    "\n",
    "- For the 12549 blocks that spread across more than one precinct, their `intersectArea` and `blkInPct` percentages are computed in in the `merge_blkMulti` dataset. Again, if a block spread across x precincts, they correspond to x rows.\n"
   ]
  },
  {
   "cell_type": "code",
   "execution_count": null,
   "metadata": {},
   "outputs": [],
   "source": [
    "#For blocks that are truely uniquely contained in one precinct:\n",
    "merge_blkUnique1= copy.copy(merge.loc[merge.GEOID10.isin(blk1), :]) \n",
    "\n",
    "#For blocks that each ha 99% of its area in one precinct and thus determined to be in one precinct:\n",
    "merge_blkUnique2= merge_blkMulti.loc[merge_blkMulti.GEOID10.isin(blkKindof1), :]\n",
    "merge_blkUnique2= \\\n",
    "    merge_blkUnique2.sort_values([\"GEOID10\", \"blkInPct\"]).drop_duplicates(\"GEOID10\", keep= \"last\")\n",
    "\n",
    "merge_blkUnique_judge= \\\n",
    "    merge_blkUnique1.append(merge_blkUnique2.drop(columns= [\"blkInPct\"]), sort= True)\n",
    "\n",
    "merge_blkUnique_judge[\"blkArea_est\"]= merge_blkUnique_judge.area\n",
    "merge_blkUnique_judge[\"intersectArea\"]= merge_blkUnique_judge.area\n",
    "merge_blkUnique_judge[\"blkInPct\"]= 1"
   ]
  },
  {
   "cell_type": "code",
   "execution_count": null,
   "metadata": {},
   "outputs": [],
   "source": [
    "merge_new= merge_blkUnique_judge.append(merge_blkMulti_judge, sort= True)\n",
    "merge_new= merge_new.reset_index()"
   ]
  },
  {
   "cell_type": "markdown",
   "metadata": {},
   "source": [
    "I now join the block size information stored in `blkSizeDf` to the `merge_new` dataset."
   ]
  },
  {
   "cell_type": "code",
   "execution_count": null,
   "metadata": {},
   "outputs": [],
   "source": [
    "#Creating IDs for joining datasets\n",
    "merge_new[\"stateId\"]= pd.to_numeric(merge_new[\"GEOID10\"].str[:2])\n",
    "merge_new[\"countyId\"]= pd.to_numeric(merge_new[\"GEOID10\"].str[2:5])\n",
    "merge_new[\"tractId\"]= pd.to_numeric(merge_new[\"GEOID10\"].str[5:11])\n",
    "merge_new[\"blockId\"]= pd.to_numeric(merge_new[\"GEOID10\"].str[11:15])\n",
    "\n",
    "blkPct_intersectDF= pd.merge(merge_new, blkSizeDf, \n",
    "         left_on= [\"stateId\", \"countyId\", \"tractId\", \"blockId\"],\n",
    "         right_on= [\"state\", \"county\", \"tract\", \"block\"])"
   ]
  },
  {
   "cell_type": "code",
   "execution_count": null,
   "metadata": {},
   "outputs": [],
   "source": [
    "#Notice that there are acltually two blocks that are not in any precinct. \n",
    "#It's not uncommon for no-people blocks to be not included in any precinct: \n",
    "\n",
    "print(sum(pd.isnull(blkPct_intersectDF.PCTKEY)))\n",
    "#blkPct_intersectDF.loc[pd.isnull(blkPct_intersectDF.PCTKEY), :]"
   ]
  },
  {
   "cell_type": "code",
   "execution_count": null,
   "metadata": {},
   "outputs": [],
   "source": [
    "# population size of an intersect = \n",
    "# population size of its parent block * % the intersect area accounting for the block area\n",
    "\n",
    "#The assumption is that the population is evenly distributed within a block\n",
    "\n",
    "blkPct_intersectDF[\"intersectPopSize\"]= \\\n",
    "    blkPct_intersectDF[\"blkInPct\"]*blkPct_intersectDF[\"P001001\"]"
   ]
  },
  {
   "cell_type": "code",
   "execution_count": null,
   "metadata": {},
   "outputs": [],
   "source": [
    "#Population sizes of precincts are obtained through aggregrating population sizes \n",
    "#of blocks and intersects within them\n",
    "helper= blkPct_intersectDF.groupby(\"PCTKEY\")[\"intersectPopSize\"].sum()\n",
    "helper= pd.DataFrame(helper)\n",
    "helper.columns= [\"pctPopSize\"]\n",
    "\n",
    "\n",
    "blkPct_intersectDF= pd.merge(blkPct_intersectDF, helper, \n",
    "         left_on= [\"PCTKEY\"], right_on= [\"PCTKEY\"])"
   ]
  },
  {
   "cell_type": "code",
   "execution_count": null,
   "metadata": {},
   "outputs": [],
   "source": [
    "#Precinct population sizes are estimated through summing up population sizes\n",
    "#of smaller areas within them; the population sizes of the smaller areas are obtained\n",
    "#through census. HOWEVER, some preincts are sized 0 based on the calculation. \n",
    "#It could be becuase of changes in population distribution. After all, the election\n",
    "#was in 2016 and the census was in 2010. \n",
    "#But these precincts are all weirdly small in size (e.g., 50 times smaller than a block)\n",
    "\n",
    "#Eitherway, voting results in these precincts cannot be mapped to block groups. \n",
    "\n",
    "weirdPct= set(blkPct_intersectDF.loc[blkPct_intersectDF[\"pctPopSize\"]== 0, ].PCTKEY)\n",
    "print(\"# of weird precincts:\", len(weirdPct))\n",
    "\n",
    "print(\"# of people in these weird precincts who voted for Trump:\",\n",
    "     texasPct_reProj.loc[texasPct_reProj.PCTKEY.isin(weirdPct), :][[\"G16PRERTru\"]].sum())\n",
    "print(\"# of people in these weird precincts who voted for Cliton:\",\n",
    "     texasPct_reProj.loc[texasPct_reProj.PCTKEY.isin(weirdPct), :][[\"G16PREDCli\"]].sum())\n",
    "\n",
    "\n",
    "print(\"# of corresponding blocks:\",\n",
    "      blkPct_intersectDF.loc[blkPct_intersectDF.PCTKEY.isin(weirdPct), \"P001001\"].shape)\n",
    "print(\"# of people in these blocks:\",\n",
    "      blkPct_intersectDF.loc[blkPct_intersectDF.PCTKEY.isin(weirdPct), \"P001001\"].sum())\n",
    "\n",
    "\n",
    "#There are 1923 blocks corresponding to these problematic precincts. \n",
    "#Base on census block enumeration, there would be 0 people in these precincts;\n",
    "#but the number of people who voted in these precincts is not zero \n",
    "#(578 for Trump and 675 for Cliton).\n",
    "\n",
    "#As the result, the total number of the votes mapped to block groups would\n",
    "#be smaller than the number of votes recorded in the original precinct dataset"
   ]
  },
  {
   "cell_type": "code",
   "execution_count": null,
   "metadata": {},
   "outputs": [],
   "source": [
    "#I assign 1 people in these werid precincts to avoid dividing by zero.\n",
    "blkPct_intersectDF.loc[blkPct_intersectDF.PCTKEY.isin(weirdPct), \"pctPopSize\"]= 1\n",
    "\n",
    "#Voting results of the blocks/intersects. If a block accounts for 5% of the \n",
    "#population of the precincts, its voting results would be 5% times the numbers of \n",
    "#people voting for different candidates\n",
    "\n",
    "blkPct_intersectDF[\"intersectTru\"]= \\\n",
    "        blkPct_intersectDF[\"intersectPopSize\"]/blkPct_intersectDF[\"pctPopSize\"]*\\\n",
    "        blkPct_intersectDF[\"G16PRERTru\"]\n",
    "        \n",
    "blkPct_intersectDF[\"intersectCli\"]= \\\n",
    "        blkPct_intersectDF[\"intersectPopSize\"]/blkPct_intersectDF[\"pctPopSize\"]*\\\n",
    "        blkPct_intersectDF[\"G16PREDCli\"]\n",
    "\n",
    "blkPct_intersectDF[\"intersectJoh\"]= \\\n",
    "        blkPct_intersectDF[\"intersectPopSize\"]/blkPct_intersectDF[\"pctPopSize\"]*\\\n",
    "        blkPct_intersectDF[\"G16PRELJoh\"]\n",
    "\n",
    "blkPct_intersectDF[\"intersectSte\"]= \\\n",
    "        blkPct_intersectDF[\"intersectPopSize\"]/blkPct_intersectDF[\"pctPopSize\"]*\\\n",
    "        blkPct_intersectDF[\"G16PREGSte\"]\n",
    "\n",
    "blkPct_intersectDF[\"intersectOth\"]= \\\n",
    "        blkPct_intersectDF[\"intersectPopSize\"]/blkPct_intersectDF[\"pctPopSize\"]*\\\n",
    "        blkPct_intersectDF[\"G16PREOth\"]"
   ]
  },
  {
   "cell_type": "markdown",
   "metadata": {},
   "source": [
    "Now I aggregrate the intersect/block level data to the block level to estimate the voting results in blocks."
   ]
  },
  {
   "cell_type": "code",
   "execution_count": null,
   "metadata": {},
   "outputs": [],
   "source": [
    "blkVote= blkPct_intersectDF.groupby(\"GEOID10\")[[\"intersectTru\", \"intersectCli\",\n",
    "                                               \"intersectJoh\", \"intersectSte\",\n",
    "                                               \"intersectOth\"]].sum()\n",
    "blkVote.columns= [\"blkTru\", \"blkCli\", \"blkJoh\", \"blkSte\", \"blkOth\"]"
   ]
  },
  {
   "cell_type": "markdown",
   "metadata": {},
   "source": [
    "Now I can aggregrate blocks to block groups and get block group voting results. I then merge the block group level voting results back to the original block group shapefiles. This completes the mapping operation."
   ]
  },
  {
   "cell_type": "code",
   "execution_count": null,
   "metadata": {},
   "outputs": [],
   "source": [
    "blkVote[\"GEOID10\"]= blkVote.index\n",
    "blkVote[\"bgID\"]= blkVote[\"GEOID10\"].str[:-3]"
   ]
  },
  {
   "cell_type": "code",
   "execution_count": null,
   "metadata": {},
   "outputs": [],
   "source": [
    "bgVote= blkVote.groupby(\"bgID\")[[\"blkTru\", \"blkCli\", \"blkJoh\", \"blkSte\", \"blkOth\"]].sum()\n",
    "bgVote.columns= [\"bgTru\", \"bgCli\", \"bgJoh\", \"bgSte\", \"bgOth\"]"
   ]
  },
  {
   "cell_type": "code",
   "execution_count": null,
   "metadata": {},
   "outputs": [],
   "source": [
    "bgVote[\"GEOID\"]= bgVote.index"
   ]
  },
  {
   "cell_type": "code",
   "execution_count": null,
   "metadata": {},
   "outputs": [],
   "source": [
    "texasBg_wVote= pd.merge(texasBg, bgVote, on= \"GEOID\")"
   ]
  },
  {
   "cell_type": "code",
   "execution_count": null,
   "metadata": {},
   "outputs": [],
   "source": [
    "outfp= \"texasBg_estimateVoting/texasBg_estimateVoting.shp\"\n",
    "texasBg_wVote.to_file(outfp)"
   ]
  }
 ],
 "metadata": {
  "kernelspec": {
   "display_name": "Python 3",
   "language": "python",
   "name": "python3"
  },
  "language_info": {
   "codemirror_mode": {
    "name": "ipython",
    "version": 3
   },
   "file_extension": ".py",
   "mimetype": "text/x-python",
   "name": "python",
   "nbconvert_exporter": "python",
   "pygments_lexer": "ipython3",
   "version": "3.6.4"
  }
 },
 "nbformat": 4,
 "nbformat_minor": 2
}
